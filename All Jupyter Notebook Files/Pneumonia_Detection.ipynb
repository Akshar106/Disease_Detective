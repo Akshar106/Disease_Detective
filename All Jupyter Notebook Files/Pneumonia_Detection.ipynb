{
 "cells": [
  {
   "cell_type": "code",
   "execution_count": 39,
   "id": "851deabf",
   "metadata": {},
   "outputs": [],
   "source": [
    "import cv2 as cv\n",
    "import pickle as pk\n",
    "import numpy as np\n",
    "import pandas as pd\n",
    "import seaborn as sns\n",
    "import os"
   ]
  },
  {
   "cell_type": "code",
   "execution_count": 40,
   "id": "14dec8c5",
   "metadata": {},
   "outputs": [],
   "source": [
    "image_folder_path_normal = \"C:/STUDY/Sem 5/SGP - Multiple Diseases Prediction WebApp/pneumonia Dataset/chest_xray/train/NORMAL\"\n",
    "list2 = os.listdir(image_folder_path_normal)\n",
    "\n",
    "# Load and preprocess images for PNEUMONIA class\n",
    "image_folder_path_pneumonia = \"C:/STUDY/Sem 5/SGP - Multiple Diseases Prediction WebApp/pneumonia Dataset/chest_xray/train/PNEUMONIA\"\n",
    "list1 = os.listdir(image_folder_path_pneumonia)\n",
    "\n",
    "arr = []\n",
    "y = []\n",
    "\n",
    "# Load and preprocess images for NORMAL class\n",
    "for i in range(0, 1349):\n",
    "    img_path = os.path.join(image_folder_path_normal, list2[i])\n",
    "    img = cv.imread(img_path)\n",
    "\n",
    "    if img is not None:\n",
    "        img = cv.resize(img, (256, 256))\n",
    "        arr.append(img)\n",
    "        y.append(0)\n",
    "    else:\n",
    "        print(f\"Error loading image: {img_path}\")\n",
    "\n",
    "# Load and preprocess images for PNEUMONIA class\n",
    "for i in range(0, 3883):\n",
    "    img_path = os.path.join(image_folder_path_pneumonia, list1[i])\n",
    "    img = cv.imread(img_path)\n",
    "\n",
    "    if img is not None:\n",
    "        img = cv.resize(img, (256, 256))\n",
    "        arr.append(img)\n",
    "        y.append(1)\n",
    "    else:\n",
    "        print(f\"Error loading image: {img_path}\")"
   ]
  },
  {
   "cell_type": "code",
   "execution_count": 27,
   "id": "172a9828",
   "metadata": {},
   "outputs": [],
   "source": [
    "X = np.array(arr)\n",
    "y = np.array(y)"
   ]
  },
  {
   "cell_type": "code",
   "execution_count": 28,
   "id": "0c143e39",
   "metadata": {},
   "outputs": [],
   "source": [
    "from sklearn.model_selection import train_test_split\n",
    "x_train,x_test,y_train,y_test=train_test_split(X,y,stratify=y,random_state=5,test_size=0.2)"
   ]
  },
  {
   "cell_type": "code",
   "execution_count": 29,
   "id": "2bed93ad",
   "metadata": {},
   "outputs": [
    {
     "name": "stdout",
     "output_type": "stream",
     "text": [
      "Model: \"sequential_1\"\n",
      "_________________________________________________________________\n",
      " Layer (type)                Output Shape              Param #   \n",
      "=================================================================\n",
      " conv2d_5 (Conv2D)           (None, 254, 254, 16)      448       \n",
      "                                                                 \n",
      " max_pooling2d_5 (MaxPoolin  (None, 127, 127, 16)      0         \n",
      " g2D)                                                            \n",
      "                                                                 \n",
      " conv2d_6 (Conv2D)           (None, 125, 125, 32)      4640      \n",
      "                                                                 \n",
      " max_pooling2d_6 (MaxPoolin  (None, 62, 62, 32)        0         \n",
      " g2D)                                                            \n",
      "                                                                 \n",
      " conv2d_7 (Conv2D)           (None, 60, 60, 64)        18496     \n",
      "                                                                 \n",
      " max_pooling2d_7 (MaxPoolin  (None, 30, 30, 64)        0         \n",
      " g2D)                                                            \n",
      "                                                                 \n",
      " conv2d_8 (Conv2D)           (None, 28, 28, 128)       73856     \n",
      "                                                                 \n",
      " max_pooling2d_8 (MaxPoolin  (None, 14, 14, 128)       0         \n",
      " g2D)                                                            \n",
      "                                                                 \n",
      " conv2d_9 (Conv2D)           (None, 12, 12, 256)       295168    \n",
      "                                                                 \n",
      " max_pooling2d_9 (MaxPoolin  (None, 6, 6, 256)         0         \n",
      " g2D)                                                            \n",
      "                                                                 \n",
      " flatten_1 (Flatten)         (None, 9216)              0         \n",
      "                                                                 \n",
      " dense_5 (Dense)             (None, 128)               1179776   \n",
      "                                                                 \n",
      " dropout_4 (Dropout)         (None, 128)               0         \n",
      "                                                                 \n",
      " dense_6 (Dense)             (None, 64)                8256      \n",
      "                                                                 \n",
      " dropout_5 (Dropout)         (None, 64)                0         \n",
      "                                                                 \n",
      " dense_7 (Dense)             (None, 32)                2080      \n",
      "                                                                 \n",
      " dropout_6 (Dropout)         (None, 32)                0         \n",
      "                                                                 \n",
      " dense_8 (Dense)             (None, 16)                528       \n",
      "                                                                 \n",
      " dropout_7 (Dropout)         (None, 16)                0         \n",
      "                                                                 \n",
      " dense_9 (Dense)             (None, 1)                 17        \n",
      "                                                                 \n",
      "=================================================================\n",
      "Total params: 1583265 (6.04 MB)\n",
      "Trainable params: 1583265 (6.04 MB)\n",
      "Non-trainable params: 0 (0.00 Byte)\n",
      "_________________________________________________________________\n"
     ]
    }
   ],
   "source": [
    "import tensorflow as tf\n",
    "from tensorflow.keras import layers\n",
    "from tensorflow.keras.callbacks import EarlyStopping\n",
    "\n",
    "# Create a CNN model\n",
    "model = tf.keras.Sequential([\n",
    "    layers.Conv2D(16, (3, 3), activation='relu', input_shape=(256, 256, 3)),\n",
    "    layers.MaxPooling2D((2, 2)),\n",
    "    layers.Conv2D(32, (3, 3), activation='relu'),\n",
    "    layers.MaxPooling2D((2, 2)),\n",
    "    layers.Conv2D(64, (3, 3), activation='relu'),\n",
    "    layers.MaxPooling2D((2, 2)),\n",
    "    layers.Conv2D(128, (3, 3), activation='relu'),\n",
    "    layers.MaxPooling2D((2, 2)),\n",
    "    layers.Conv2D(256, (3, 3), activation='relu'),\n",
    "    layers.MaxPooling2D((2, 2)),\n",
    "    layers.Flatten(),\n",
    "    layers.Dense(128, activation='relu'),\n",
    "    layers.Dropout(0.5),\n",
    "    layers.Dense(64, activation='relu'),\n",
    "    layers.Dropout(0.5),\n",
    "    layers.Dense(32, activation='relu'),\n",
    "    layers.Dropout(0.5),\n",
    "    layers.Dense(16, activation=\"leaky_relu\"),\n",
    "    layers.Dropout(0.5),\n",
    "    layers.Dense(1, activation='sigmoid')\n",
    "])\n",
    "\n",
    "\n",
    "model.compile(optimizer='adam',\n",
    "              loss='binary_crossentropy',\n",
    "              metrics=['accuracy'])\n",
    "\n",
    "# Print the model summary\n",
    "model.summary()"
   ]
  },
  {
   "cell_type": "code",
   "execution_count": 30,
   "id": "a7c79899",
   "metadata": {},
   "outputs": [
    {
     "name": "stdout",
     "output_type": "stream",
     "text": [
      "Epoch 1/10\n",
      "131/131 [==============================] - 187s 1s/step - loss: 0.8588 - accuracy: 0.6717 - val_loss: 0.4812 - val_accuracy: 0.7459\n",
      "Epoch 2/10\n",
      "131/131 [==============================] - 180s 1s/step - loss: 0.5069 - accuracy: 0.7546 - val_loss: 0.3836 - val_accuracy: 0.7679\n",
      "Epoch 3/10\n",
      "131/131 [==============================] - 195s 1s/step - loss: 0.3663 - accuracy: 0.8311 - val_loss: 0.1845 - val_accuracy: 0.9503\n",
      "Epoch 4/10\n",
      "131/131 [==============================] - 168s 1s/step - loss: 0.2697 - accuracy: 0.8834 - val_loss: 0.1679 - val_accuracy: 0.9532\n",
      "Epoch 5/10\n",
      "131/131 [==============================] - 154s 1s/step - loss: 0.2307 - accuracy: 0.9111 - val_loss: 0.1784 - val_accuracy: 0.9475\n",
      "Epoch 6/10\n",
      "131/131 [==============================] - 165s 1s/step - loss: 0.2816 - accuracy: 0.8996 - val_loss: 0.1432 - val_accuracy: 0.9656\n",
      "Epoch 7/10\n",
      "131/131 [==============================] - 183s 1s/step - loss: 0.1901 - accuracy: 0.9336 - val_loss: 0.1278 - val_accuracy: 0.9599\n",
      "Epoch 8/10\n",
      "131/131 [==============================] - 187s 1s/step - loss: 0.1466 - accuracy: 0.9489 - val_loss: 0.1035 - val_accuracy: 0.9723\n",
      "Epoch 9/10\n",
      "131/131 [==============================] - 203s 2s/step - loss: 0.1453 - accuracy: 0.9479 - val_loss: 0.0942 - val_accuracy: 0.9694\n",
      "Epoch 10/10\n",
      "131/131 [==============================] - 160s 1s/step - loss: 0.1662 - accuracy: 0.9470 - val_loss: 0.1087 - val_accuracy: 0.9666\n"
     ]
    },
    {
     "data": {
      "text/plain": [
       "<keras.src.callbacks.History at 0x297295030a0>"
      ]
     },
     "execution_count": 30,
     "metadata": {},
     "output_type": "execute_result"
    }
   ],
   "source": [
    "early_stop = EarlyStopping(monitor='val_loss', patience=3)\n",
    "\n",
    "\n",
    "model.fit(x_train, y_train, epochs=10, validation_data=(x_test, y_test), callbacks=[early_stop])"
   ]
  },
  {
   "cell_type": "code",
   "execution_count": 31,
   "id": "fcd2bce2",
   "metadata": {},
   "outputs": [
    {
     "name": "stdout",
     "output_type": "stream",
     "text": [
      "33/33 [==============================] - 7s 200ms/step - loss: 0.1087 - accuracy: 0.9666\n"
     ]
    },
    {
     "data": {
      "text/plain": [
       "[0.10874822735786438, 0.9665711522102356]"
      ]
     },
     "execution_count": 31,
     "metadata": {},
     "output_type": "execute_result"
    }
   ],
   "source": [
    "model.evaluate(x_test,y_test)"
   ]
  },
  {
   "cell_type": "code",
   "execution_count": 32,
   "id": "d0fb2341",
   "metadata": {},
   "outputs": [],
   "source": [
    "image_folder_path_pneumonia_test = \"C:/STUDY/Sem 5/SGP - Multiple Diseases Prediction WebApp/pneumonia Dataset/chest_xray/test/PNEUMONIA\"\n",
    "list3 = os.listdir(image_folder_path_pneumonia_test)\n",
    "\n",
    "# Load and preprocess images for NORMAL class in the test set\n",
    "image_folder_path_normal_test = \"C:/STUDY/Sem 5/SGP - Multiple Diseases Prediction WebApp/pneumonia Dataset/chest_xray/test/NORMAL\"\n",
    "list4 = os.listdir(image_folder_path_normal_test)\n",
    "\n",
    "x_testing = []\n",
    "y_testing = []\n",
    "\n",
    "# Load and preprocess images for PNEUMONIA class in the test set\n",
    "for i in range(0, 390):\n",
    "    img_path = os.path.join(image_folder_path_pneumonia_test, list3[i])\n",
    "    img = cv.imread(img_path)\n",
    "\n",
    "    if img is not None:\n",
    "        img = cv.resize(img, (256, 256))\n",
    "        x_testing.append(img)\n",
    "        y_testing.append(1)\n",
    "    else:\n",
    "        print(f\"Error loading image: {img_path}\")\n",
    "\n",
    "# Load and preprocess images for NORMAL class in the test set\n",
    "for i in range(0, 234):\n",
    "    img_path = os.path.join(image_folder_path_normal_test, list4[i])\n",
    "    img = cv.imread(img_path)\n",
    "\n",
    "    if img is not None:\n",
    "        img = cv.resize(img, (256, 256))\n",
    "        x_testing.append(img)\n",
    "        y_testing.append(0)\n",
    "    else:\n",
    "        print(f\"Error loading image: {img_path}\")\n",
    "\n",
    "# Convert the lists to numpy arrays\n",
    "x_testing = np.array(x_testing)\n",
    "y_testing = np.array(y_testing)"
   ]
  },
  {
   "cell_type": "code",
   "execution_count": 33,
   "id": "4e3e88a0",
   "metadata": {},
   "outputs": [
    {
     "name": "stdout",
     "output_type": "stream",
     "text": [
      "20/20 [==============================] - 5s 219ms/step\n"
     ]
    }
   ],
   "source": [
    "pp=model.predict(x_testing)\n",
    "y_pred=list()\n",
    "for i in pp:\n",
    "    if i >0.5:\n",
    "        y_pred.append(1)\n",
    "    else:\n",
    "        y_pred.append(0)"
   ]
  },
  {
   "cell_type": "code",
   "execution_count": 34,
   "id": "15f84592",
   "metadata": {},
   "outputs": [
    {
     "data": {
      "text/plain": [
       "array([[134,   3],\n",
       "       [100, 387]], dtype=int64)"
      ]
     },
     "execution_count": 34,
     "metadata": {},
     "output_type": "execute_result"
    }
   ],
   "source": [
    "from sklearn.metrics import confusion_matrix\n",
    "confusion_matrix(y_pred,y_testing)"
   ]
  },
  {
   "cell_type": "code",
   "execution_count": 41,
   "id": "ed160fed",
   "metadata": {},
   "outputs": [
    {
     "name": "stdout",
     "output_type": "stream",
     "text": [
      "20/20 [==============================] - 4s 194ms/step - loss: 0.7695 - accuracy: 0.8349\n"
     ]
    },
    {
     "data": {
      "text/plain": [
       "[0.7695433497428894, 0.8349359035491943]"
      ]
     },
     "execution_count": 41,
     "metadata": {},
     "output_type": "execute_result"
    }
   ],
   "source": [
    "model.evaluate(x_testing,y_testing)"
   ]
  },
  {
   "cell_type": "code",
   "execution_count": 43,
   "id": "70cbc246",
   "metadata": {},
   "outputs": [
    {
     "name": "stdout",
     "output_type": "stream",
     "text": [
      "131/131 [==============================] - 23s 179ms/step\n",
      "Training Set Metrics:\n",
      "Accuracy: 0.9741935483870968\n",
      "Precision: 0.9905104712041884\n",
      "Recall: 0.9745653573728268\n",
      "F1-score: 0.9824732229795522\n",
      "33/33 [==============================] - 6s 172ms/step\n",
      "\n",
      "Test Set Metrics:\n",
      "Accuracy: 0.9665711556829035\n",
      "Precision: 0.9856020942408377\n",
      "Recall: 0.9691119691119691\n",
      "F1-score: 0.9772874756651525\n",
      "1/1 [==============================] - 0s 37ms/step\n",
      "Prediction for NORMAL image: Normal\n",
      "1/1 [==============================] - 0s 35ms/step\n",
      "Prediction for PNEUMONIA image: Pneumonia\n"
     ]
    },
    {
     "name": "stderr",
     "output_type": "stream",
     "text": [
      "C:\\Users\\rd\\anaconda3\\lib\\site-packages\\keras\\src\\engine\\training.py:3000: UserWarning: You are saving your model as an HDF5 file via `model.save()`. This file format is considered legacy. We recommend using instead the native Keras format, e.g. `model.save('my_model.keras')`.\n",
      "  saving_api.save_model(\n"
     ]
    }
   ],
   "source": [
    "from sklearn.metrics import accuracy_score, precision_score, recall_score, f1_score\n",
    "\n",
    "# Evaluate on the training set\n",
    "y_train_pred = (model.predict(x_train) > 0.5).astype(int)\n",
    "print(\"Training Set Metrics:\")\n",
    "print(\"Accuracy:\", accuracy_score(y_train, y_train_pred))\n",
    "print(\"Precision:\", precision_score(y_train, y_train_pred))\n",
    "print(\"Recall:\", recall_score(y_train, y_train_pred))\n",
    "print(\"F1-score:\", f1_score(y_train, y_train_pred))\n",
    "\n",
    "# Evaluate on the test set\n",
    "y_test_pred = (model.predict(x_test) > 0.5).astype(int)\n",
    "print(\"\\nTest Set Metrics:\")\n",
    "print(\"Accuracy:\", accuracy_score(y_test, y_test_pred))\n",
    "print(\"Precision:\", precision_score(y_test, y_test_pred))\n",
    "print(\"Recall:\", recall_score(y_test, y_test_pred))\n",
    "print(\"F1-score:\", f1_score(y_test, y_test_pred))\n",
    "\n",
    "# Function for Image Prediction\n",
    "def predict_single_image(model, img):\n",
    "    img = cv.resize(img, (256, 256))\n",
    "    img = np.expand_dims(img, axis=0)  # Add batch dimension\n",
    "    pred_probability = model.predict(img)\n",
    "    if pred_probability > 0.5:\n",
    "        return \"Pneumonia\"\n",
    "    else:\n",
    "        return \"Normal\"\n",
    "\n",
    "# Example Predictions\n",
    "img_path_normal = \"C:/STUDY/Sem 5/SGP - Multiple Diseases Prediction WebApp/pneumonia Dataset/chest_xray/test/NORMAL/NORMAL-520267-0001.jpeg\"\n",
    "img_normal = cv.imread(img_path_normal)\n",
    "print(\"Prediction for NORMAL image:\", predict_single_image(model, img_normal))\n",
    "\n",
    "img_path_pneumonia = \"C:/STUDY/Sem 5/SGP - Multiple Diseases Prediction WebApp/pneumonia Dataset/chest_xray/test/PNEUMONIA/BACTERIA-932292-0002.jpeg\"\n",
    "img_pneumonia = cv.imread(img_path_pneumonia)\n",
    "print(\"Prediction for PNEUMONIA image:\", predict_single_image(model, img_pneumonia))\n",
    "\n",
    "# Save the model using TensorFlow/Keras\n",
    "model_path = \"Pneumonia_detection_model.h5\"\n",
    "model.save(model_path)"
   ]
  },
  {
   "cell_type": "code",
   "execution_count": null,
   "id": "adfec072",
   "metadata": {},
   "outputs": [],
   "source": []
  },
  {
   "cell_type": "code",
   "execution_count": null,
   "id": "bc66f0a1",
   "metadata": {},
   "outputs": [],
   "source": []
  },
  {
   "cell_type": "code",
   "execution_count": null,
   "id": "6d45002d",
   "metadata": {},
   "outputs": [],
   "source": []
  }
 ],
 "metadata": {
  "kernelspec": {
   "display_name": "Python 3 (ipykernel)",
   "language": "python",
   "name": "python3"
  },
  "language_info": {
   "codemirror_mode": {
    "name": "ipython",
    "version": 3
   },
   "file_extension": ".py",
   "mimetype": "text/x-python",
   "name": "python",
   "nbconvert_exporter": "python",
   "pygments_lexer": "ipython3",
   "version": "3.9.13"
  }
 },
 "nbformat": 4,
 "nbformat_minor": 5
}
